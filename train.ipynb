{
 "cells": [
  {
   "cell_type": "code",
   "execution_count": 1,
   "id": "4c8e5282",
   "metadata": {},
   "outputs": [
    {
     "name": "stdout",
     "output_type": "stream",
     "text": [
      "Fri Mar 24 17:37:03 2023       \n",
      "+---------------------------------------------------------------------------------------+\n",
      "| NVIDIA-SMI 530.30.02              Driver Version: 531.18       CUDA Version: 12.1     |\n",
      "|-----------------------------------------+----------------------+----------------------+\n",
      "| GPU  Name                  Persistence-M| Bus-Id        Disp.A | Volatile Uncorr. ECC |\n",
      "| Fan  Temp  Perf            Pwr:Usage/Cap|         Memory-Usage | GPU-Util  Compute M. |\n",
      "|                                         |                      |               MIG M. |\n",
      "|=========================================+======================+======================|\n",
      "|   0  NVIDIA GeForce RTX 4060 L...    On | 00000000:01:00.0 Off |                  N/A |\n",
      "| N/A   48C    P8                3W /  N/A|    282MiB /  8188MiB |      0%      Default |\n",
      "|                                         |                      |                  N/A |\n",
      "+-----------------------------------------+----------------------+----------------------+\n",
      "                                                                                         \n",
      "+---------------------------------------------------------------------------------------+\n",
      "| Processes:                                                                            |\n",
      "|  GPU   GI   CI        PID   Type   Process name                            GPU Memory |\n",
      "|        ID   ID                                                             Usage      |\n",
      "|=======================================================================================|\n",
      "|    0   N/A  N/A        24      G   /Xwayland                                 N/A      |\n",
      "|    0   N/A  N/A      4009      C   /python3.7                                N/A      |\n",
      "|    0   N/A  N/A      4606      C   /python3.7                                N/A      |\n",
      "|    0   N/A  N/A      5335      C   /python3.7                                N/A      |\n",
      "+---------------------------------------------------------------------------------------+\n"
     ]
    }
   ],
   "source": [
    "!nvidia-smi"
   ]
  },
  {
   "cell_type": "code",
   "execution_count": 2,
   "id": "272b55b5",
   "metadata": {},
   "outputs": [],
   "source": [
    "FOLDER_DATASET_NAME = \"roseapple_new_dataset_05122021\"\n",
    "LABEL_DIR = \"roseapple_new_dataset_label_16032023\""
   ]
  },
  {
   "cell_type": "code",
   "execution_count": 3,
   "id": "94ee0a66",
   "metadata": {},
   "outputs": [],
   "source": [
    "EPOCHS = 100\n",
    "trainable_layers = \"heads\"\n",
    "save_weight_period = 1\n",
    "initialize_weight = \"mobile\""
   ]
  },
  {
   "cell_type": "markdown",
   "id": "a39f13a0",
   "metadata": {},
   "source": [
    "<h1>Import all dependencies</h1>"
   ]
  },
  {
   "cell_type": "code",
   "execution_count": 4,
   "id": "2c3be4f5",
   "metadata": {},
   "outputs": [
    {
     "name": "stderr",
     "output_type": "stream",
     "text": [
      "Using TensorFlow backend.\n"
     ]
    }
   ],
   "source": [
    "import keras\n",
    "import tensorflow as tf"
   ]
  },
  {
   "cell_type": "code",
   "execution_count": 5,
   "id": "2de52b0b",
   "metadata": {},
   "outputs": [
    {
     "name": "stdout",
     "output_type": "stream",
     "text": [
      "2.2.5\n",
      "1.15.0\n"
     ]
    }
   ],
   "source": [
    "print(keras.__version__)\n",
    "print(tf.__version__)"
   ]
  },
  {
   "cell_type": "code",
   "execution_count": 6,
   "id": "c704b42d",
   "metadata": {},
   "outputs": [],
   "source": [
    "import os\n",
    "import sys\n",
    "import json\n",
    "import numpy as np\n",
    "import skimage.draw\n",
    "import matplotlib.pyplot as plt\n",
    "import pandas as pd\n",
    "import time\n",
    "import shutil"
   ]
  },
  {
   "cell_type": "code",
   "execution_count": 7,
   "id": "9744858a",
   "metadata": {},
   "outputs": [],
   "source": [
    "from mrcnn.config import Config\n",
    "from mrcnn import model as modellib, utils\n",
    "from mrcnn import visualize\n",
    "from mrcnn.visualize import display_instances"
   ]
  },
  {
   "cell_type": "code",
   "execution_count": 8,
   "id": "509af095",
   "metadata": {},
   "outputs": [
    {
     "name": "stdout",
     "output_type": "stream",
     "text": [
      "[TRAIN_SET_NUM] : 483\n"
     ]
    }
   ],
   "source": [
    "train_label_path = f\"{LABEL_DIR}/train/train_label.json\"\n",
    "with open(train_label_path) as annoFile:\n",
    "  train_label = json.load(annoFile)\n",
    "\n",
    "train_set_num = len(train_label)\n",
    "print(f\"[TRAIN_SET_NUM] : {train_set_num}\")"
   ]
  },
  {
   "cell_type": "markdown",
   "id": "68d1c15b",
   "metadata": {},
   "source": [
    "<h1>Prepare Dataset</h1>"
   ]
  },
  {
   "cell_type": "code",
   "execution_count": 9,
   "id": "a19820ed",
   "metadata": {},
   "outputs": [],
   "source": [
    "from model_trainer.prepare_dataset import CustomDataset"
   ]
  },
  {
   "cell_type": "code",
   "execution_count": 10,
   "id": "66b017d0",
   "metadata": {},
   "outputs": [],
   "source": [
    "with open(\"./trained_models/classes_map.json\") as classesMap:\n",
    "    classes_map = json.load(classesMap)"
   ]
  },
  {
   "cell_type": "code",
   "execution_count": 11,
   "id": "97a52310",
   "metadata": {},
   "outputs": [
    {
     "name": "stdout",
     "output_type": "stream",
     "text": [
      "{'skin': 483, 'minor': 670, 'critical': 1227}\n"
     ]
    }
   ],
   "source": [
    "# Training dataset.\n",
    "dataset_train = CustomDataset()\n",
    "train_anno_dir = f\"{LABEL_DIR}/train/train_label.json\"\n",
    "dataset_train.load_custom(FOLDER_DATASET_NAME, train_anno_dir, classes_map)\n",
    "dataset_train.prepare()"
   ]
  },
  {
   "cell_type": "code",
   "execution_count": 12,
   "id": "c1e593ba",
   "metadata": {},
   "outputs": [
    {
     "name": "stdout",
     "output_type": "stream",
     "text": [
      "{'skin': 60, 'minor': 80, 'critical': 151}\n"
     ]
    }
   ],
   "source": [
    "# Validation dataset\n",
    "dataset_val = CustomDataset()\n",
    "val_anno_dir = f\"{LABEL_DIR}/val/val_label.json\"\n",
    "dataset_val.load_custom(FOLDER_DATASET_NAME, val_anno_dir, classes_map)\n",
    "dataset_val.prepare()"
   ]
  },
  {
   "cell_type": "markdown",
   "id": "0ef7941c",
   "metadata": {},
   "source": [
    "<h1>Config</h1>"
   ]
  },
  {
   "cell_type": "code",
   "execution_count": 23,
   "id": "56346cba",
   "metadata": {},
   "outputs": [],
   "source": [
    "class CustomConfig(Config):\n",
    "      \"\"\"\n",
    "          Configuration for training on the dataset.\n",
    "          Derives from the base Config class and overrides some values.\n",
    "      \"\"\"\n",
    "      # Give the configuration a recognizable name\n",
    "      NAME = \"object\"\n",
    "      BACKBONE = \"mobilenetv1\"\n",
    "      RPN_ANCHOR_SCALES = (8 , 16, 32, 64, 128)\n",
    "\n",
    "      # We use a GPU with 12GB memory, which can fit two images.\n",
    "      # Adjust down if you use a smaller GPU.\n",
    "      GPU_COUNT = 1 \n",
    "      IMAGES_PER_GPU = 1\n",
    "\n",
    "      # Number of classes (including background)\n",
    "      NUM_CLASSES = len(classes_map) + 1  # Background + (desired classes)\n",
    "\n",
    "      # Number of training steps per epoch\n",
    "      STEPS_PER_EPOCH = train_set_num\n",
    "\n",
    "      # Skip detections with < 90% confidence\n",
    "      DETECTION_MIN_CONFIDENCE = 0.7\n",
    "\n",
    "      IMAGE_MAX_DIM = 320\n",
    "      IMAGE_MIN_DIM = 320"
   ]
  },
  {
   "cell_type": "markdown",
   "id": "89114142",
   "metadata": {},
   "source": [
    "<h1>Saved Model files directory</h1>"
   ]
  },
  {
   "cell_type": "code",
   "execution_count": 14,
   "id": "b9712535",
   "metadata": {},
   "outputs": [],
   "source": [
    "from datetime import datetime, timedelta"
   ]
  },
  {
   "cell_type": "code",
   "execution_count": 15,
   "id": "07102372",
   "metadata": {},
   "outputs": [],
   "source": [
    "train_model_time = datetime.strftime(datetime.now() + timedelta(hours=7),'%Y%m%d_%H%M%S')"
   ]
  },
  {
   "cell_type": "code",
   "execution_count": 16,
   "id": "5069f53b",
   "metadata": {},
   "outputs": [],
   "source": [
    "save_trained_model_dir = f\"trained_model/{train_model_time}\"\n",
    "save_trained_model_path = f\"{save_trained_model_dir}/{CustomConfig.BACKBONE}_{train_model_time}.h5\"\n",
    "save_history_path = f\"{save_trained_model_dir}/{CustomConfig.BACKBONE}_{train_model_time}.csv\""
   ]
  },
  {
   "cell_type": "code",
   "execution_count": 17,
   "id": "590bb9a1",
   "metadata": {},
   "outputs": [],
   "source": [
    "if not os.path.exists(save_trained_model_dir):\n",
    "    os.makedirs(save_trained_model_dir)"
   ]
  },
  {
   "cell_type": "markdown",
   "id": "067945ab",
   "metadata": {},
   "source": [
    "<h1>Callbacks</h1>"
   ]
  },
  {
   "cell_type": "code",
   "execution_count": 18,
   "id": "968ad55e",
   "metadata": {},
   "outputs": [],
   "source": [
    "callbacks_list = []"
   ]
  },
  {
   "cell_type": "code",
   "execution_count": 19,
   "id": "a6509be3",
   "metadata": {},
   "outputs": [],
   "source": [
    "callbacks_list.append(\n",
    "                        tf.keras.callbacks.CSVLogger(\n",
    "                            save_history_path, \n",
    "                            separator=\",\", \n",
    "                            append=True\n",
    "                        )\n",
    "                    )"
   ]
  },
  {
   "cell_type": "code",
   "execution_count": 20,
   "id": "cd59a452",
   "metadata": {},
   "outputs": [],
   "source": [
    "callbacks_list.append(\n",
    "                        tf.keras.callbacks.EarlyStopping(\n",
    "                            monitor=\"val_loss\",\n",
    "                            mode=\"auto\"\n",
    "                    )\n",
    "                )"
   ]
  },
  {
   "cell_type": "markdown",
   "id": "c5ce1562",
   "metadata": {},
   "source": [
    "<h1>Train model</h1>"
   ]
  },
  {
   "cell_type": "code",
   "execution_count": 21,
   "id": "50f62201",
   "metadata": {},
   "outputs": [],
   "source": [
    "weights_path = initialize_weight\n",
    "\n",
    "# Path to trained weights file\n",
    "if initialize_weight in [\"coco\", \"balloon\", \"mobile\"]:\n",
    "    weights_path = f\"models/mask_rcnn_{initialize_weight}.h5\""
   ]
  },
  {
   "cell_type": "code",
   "execution_count": null,
   "id": "095c2850",
   "metadata": {},
   "outputs": [
    {
     "name": "stdout",
     "output_type": "stream",
     "text": [
      "WARNING:tensorflow:From /usr/local/lib/python3.6/dist-packages/keras/backend/tensorflow_backend.py:541: The name tf.placeholder is deprecated. Please use tf.compat.v1.placeholder instead.\n",
      "\n"
     ]
    },
    {
     "name": "stderr",
     "output_type": "stream",
     "text": [
      "WARNING:tensorflow:From /usr/local/lib/python3.6/dist-packages/keras/backend/tensorflow_backend.py:541: The name tf.placeholder is deprecated. Please use tf.compat.v1.placeholder instead.\n",
      "\n"
     ]
    },
    {
     "name": "stdout",
     "output_type": "stream",
     "text": [
      "WARNING:tensorflow:From /usr/local/lib/python3.6/dist-packages/keras/backend/tensorflow_backend.py:66: The name tf.get_default_graph is deprecated. Please use tf.compat.v1.get_default_graph instead.\n",
      "\n"
     ]
    },
    {
     "name": "stderr",
     "output_type": "stream",
     "text": [
      "WARNING:tensorflow:From /usr/local/lib/python3.6/dist-packages/keras/backend/tensorflow_backend.py:66: The name tf.get_default_graph is deprecated. Please use tf.compat.v1.get_default_graph instead.\n",
      "\n"
     ]
    },
    {
     "name": "stdout",
     "output_type": "stream",
     "text": [
      "WARNING:tensorflow:From /usr/local/lib/python3.6/dist-packages/keras/backend/tensorflow_backend.py:4432: The name tf.random_uniform is deprecated. Please use tf.random.uniform instead.\n",
      "\n"
     ]
    },
    {
     "name": "stderr",
     "output_type": "stream",
     "text": [
      "WARNING:tensorflow:From /usr/local/lib/python3.6/dist-packages/keras/backend/tensorflow_backend.py:4432: The name tf.random_uniform is deprecated. Please use tf.random.uniform instead.\n",
      "\n"
     ]
    },
    {
     "name": "stdout",
     "output_type": "stream",
     "text": [
      "WARNING:tensorflow:From /usr/local/lib/python3.6/dist-packages/keras/backend/tensorflow_backend.py:2139: The name tf.nn.fused_batch_norm is deprecated. Please use tf.compat.v1.nn.fused_batch_norm instead.\n",
      "\n"
     ]
    },
    {
     "name": "stderr",
     "output_type": "stream",
     "text": [
      "WARNING:tensorflow:From /usr/local/lib/python3.6/dist-packages/keras/backend/tensorflow_backend.py:2139: The name tf.nn.fused_batch_norm is deprecated. Please use tf.compat.v1.nn.fused_batch_norm instead.\n",
      "\n"
     ]
    },
    {
     "name": "stdout",
     "output_type": "stream",
     "text": [
      "WARNING:tensorflow:From /usr/local/lib/python3.6/dist-packages/keras/backend/tensorflow_backend.py:2239: The name tf.image.resize_nearest_neighbor is deprecated. Please use tf.compat.v1.image.resize_nearest_neighbor instead.\n",
      "\n"
     ]
    },
    {
     "name": "stderr",
     "output_type": "stream",
     "text": [
      "WARNING:tensorflow:From /usr/local/lib/python3.6/dist-packages/keras/backend/tensorflow_backend.py:2239: The name tf.image.resize_nearest_neighbor is deprecated. Please use tf.compat.v1.image.resize_nearest_neighbor instead.\n",
      "\n"
     ]
    },
    {
     "name": "stdout",
     "output_type": "stream",
     "text": [
      "WARNING:tensorflow:From /usr/local/lib/python3.6/dist-packages/keras/backend/tensorflow_backend.py:4267: The name tf.nn.max_pool is deprecated. Please use tf.nn.max_pool2d instead.\n",
      "\n"
     ]
    },
    {
     "name": "stderr",
     "output_type": "stream",
     "text": [
      "WARNING:tensorflow:From /usr/local/lib/python3.6/dist-packages/keras/backend/tensorflow_backend.py:4267: The name tf.nn.max_pool is deprecated. Please use tf.nn.max_pool2d instead.\n",
      "\n"
     ]
    },
    {
     "name": "stdout",
     "output_type": "stream",
     "text": [
      "WARNING:tensorflow:From /usr/local/lib/python3.6/dist-packages/tensorflow_core/python/ops/array_ops.py:1475: where (from tensorflow.python.ops.array_ops) is deprecated and will be removed in a future version.\n",
      "Instructions for updating:\n",
      "Use tf.where in 2.0, which has the same broadcast rule as np.where\n"
     ]
    },
    {
     "name": "stderr",
     "output_type": "stream",
     "text": [
      "WARNING:tensorflow:From /usr/local/lib/python3.6/dist-packages/tensorflow_core/python/ops/array_ops.py:1475: where (from tensorflow.python.ops.array_ops) is deprecated and will be removed in a future version.\n",
      "Instructions for updating:\n",
      "Use tf.where in 2.0, which has the same broadcast rule as np.where\n"
     ]
    },
    {
     "name": "stdout",
     "output_type": "stream",
     "text": [
      "WARNING:tensorflow:From /mask_rcnn_dev/mrcnn/model.py:852: The name tf.random_shuffle is deprecated. Please use tf.random.shuffle instead.\n",
      "\n"
     ]
    },
    {
     "name": "stderr",
     "output_type": "stream",
     "text": [
      "WARNING:tensorflow:From /mask_rcnn_dev/mrcnn/model.py:852: The name tf.random_shuffle is deprecated. Please use tf.random.shuffle instead.\n",
      "\n"
     ]
    },
    {
     "name": "stdout",
     "output_type": "stream",
     "text": [
      "WARNING:tensorflow:From /mask_rcnn_dev/mrcnn/utils.py:210: The name tf.log is deprecated. Please use tf.math.log instead.\n",
      "\n"
     ]
    },
    {
     "name": "stderr",
     "output_type": "stream",
     "text": [
      "WARNING:tensorflow:From /mask_rcnn_dev/mrcnn/utils.py:210: The name tf.log is deprecated. Please use tf.math.log instead.\n",
      "\n"
     ]
    },
    {
     "name": "stdout",
     "output_type": "stream",
     "text": [
      "WARNING:tensorflow:From /mask_rcnn_dev/mrcnn/model.py:895: calling crop_and_resize_v1 (from tensorflow.python.ops.image_ops_impl) with box_ind is deprecated and will be removed in a future version.\n",
      "Instructions for updating:\n",
      "box_ind is deprecated, use box_indices instead\n"
     ]
    },
    {
     "name": "stderr",
     "output_type": "stream",
     "text": [
      "WARNING:tensorflow:From /mask_rcnn_dev/mrcnn/model.py:895: calling crop_and_resize_v1 (from tensorflow.python.ops.image_ops_impl) with box_ind is deprecated and will be removed in a future version.\n",
      "Instructions for updating:\n",
      "box_ind is deprecated, use box_indices instead\n"
     ]
    },
    {
     "name": "stdout",
     "output_type": "stream",
     "text": [
      "WARNING:tensorflow:From /usr/local/lib/python3.6/dist-packages/keras/backend/tensorflow_backend.py:190: The name tf.get_default_session is deprecated. Please use tf.compat.v1.get_default_session instead.\n",
      "\n"
     ]
    },
    {
     "name": "stderr",
     "output_type": "stream",
     "text": [
      "WARNING:tensorflow:From /usr/local/lib/python3.6/dist-packages/keras/backend/tensorflow_backend.py:190: The name tf.get_default_session is deprecated. Please use tf.compat.v1.get_default_session instead.\n",
      "\n"
     ]
    },
    {
     "name": "stdout",
     "output_type": "stream",
     "text": [
      "WARNING:tensorflow:From /usr/local/lib/python3.6/dist-packages/keras/backend/tensorflow_backend.py:197: The name tf.ConfigProto is deprecated. Please use tf.compat.v1.ConfigProto instead.\n",
      "\n"
     ]
    },
    {
     "name": "stderr",
     "output_type": "stream",
     "text": [
      "WARNING:tensorflow:From /usr/local/lib/python3.6/dist-packages/keras/backend/tensorflow_backend.py:197: The name tf.ConfigProto is deprecated. Please use tf.compat.v1.ConfigProto instead.\n",
      "\n"
     ]
    },
    {
     "name": "stdout",
     "output_type": "stream",
     "text": [
      "WARNING:tensorflow:From /usr/local/lib/python3.6/dist-packages/keras/backend/tensorflow_backend.py:203: The name tf.Session is deprecated. Please use tf.compat.v1.Session instead.\n",
      "\n"
     ]
    },
    {
     "name": "stderr",
     "output_type": "stream",
     "text": [
      "WARNING:tensorflow:From /usr/local/lib/python3.6/dist-packages/keras/backend/tensorflow_backend.py:203: The name tf.Session is deprecated. Please use tf.compat.v1.Session instead.\n",
      "\n"
     ]
    },
    {
     "name": "stdout",
     "output_type": "stream",
     "text": [
      "WARNING:tensorflow:From /usr/local/lib/python3.6/dist-packages/keras/backend/tensorflow_backend.py:207: The name tf.global_variables is deprecated. Please use tf.compat.v1.global_variables instead.\n",
      "\n"
     ]
    },
    {
     "name": "stderr",
     "output_type": "stream",
     "text": [
      "WARNING:tensorflow:From /usr/local/lib/python3.6/dist-packages/keras/backend/tensorflow_backend.py:207: The name tf.global_variables is deprecated. Please use tf.compat.v1.global_variables instead.\n",
      "\n"
     ]
    },
    {
     "name": "stdout",
     "output_type": "stream",
     "text": [
      "WARNING:tensorflow:From /usr/local/lib/python3.6/dist-packages/keras/backend/tensorflow_backend.py:216: The name tf.is_variable_initialized is deprecated. Please use tf.compat.v1.is_variable_initialized instead.\n",
      "\n"
     ]
    },
    {
     "name": "stderr",
     "output_type": "stream",
     "text": [
      "WARNING:tensorflow:From /usr/local/lib/python3.6/dist-packages/keras/backend/tensorflow_backend.py:216: The name tf.is_variable_initialized is deprecated. Please use tf.compat.v1.is_variable_initialized instead.\n",
      "\n"
     ]
    },
    {
     "name": "stdout",
     "output_type": "stream",
     "text": [
      "WARNING:tensorflow:From /usr/local/lib/python3.6/dist-packages/keras/backend/tensorflow_backend.py:223: The name tf.variables_initializer is deprecated. Please use tf.compat.v1.variables_initializer instead.\n",
      "\n"
     ]
    },
    {
     "name": "stderr",
     "output_type": "stream",
     "text": [
      "WARNING:tensorflow:From /usr/local/lib/python3.6/dist-packages/keras/backend/tensorflow_backend.py:223: The name tf.variables_initializer is deprecated. Please use tf.compat.v1.variables_initializer instead.\n",
      "\n"
     ]
    }
   ],
   "source": [
    "config = CustomConfig()\n",
    "model = modellib.MaskRCNN(mode=\"training\", \n",
    "                          config=config,\n",
    "                          model_dir=save_trained_model_dir)\n",
    "\n",
    "model.load_weights(weights_path, \n",
    "                   by_name=True, \n",
    "                   exclude=[\n",
    "                            \"mrcnn_class_logits\", \n",
    "                            \"mrcnn_bbox_fc\",\n",
    "                            \"mrcnn_bbox\", \n",
    "                            \"mrcnn_mask\"\n",
    "                            ]\n",
    "                   )"
   ]
  },
  {
   "cell_type": "code",
   "execution_count": null,
   "id": "fba5ad2f",
   "metadata": {},
   "outputs": [],
   "source": [
    "model.train(\n",
    "    dataset_train, \n",
    "    dataset_val,\n",
    "    learning_rate=config.LEARNING_RATE,\n",
    "    epochs=EPOCHS,\n",
    "    layers=trainable_layers,\n",
    "    custom_callbacks=callbacks_list\n",
    ")"
   ]
  },
  {
   "cell_type": "code",
   "execution_count": null,
   "id": "c3cab9cd",
   "metadata": {},
   "outputs": [],
   "source": [
    "history = model.keras_model.history.history"
   ]
  },
  {
   "cell_type": "code",
   "execution_count": null,
   "id": "46dc785b",
   "metadata": {},
   "outputs": [],
   "source": []
  }
 ],
 "metadata": {
  "kernelspec": {
   "display_name": "Python 3",
   "language": "python",
   "name": "python3"
  },
  "language_info": {
   "codemirror_mode": {
    "name": "ipython",
    "version": 3
   },
   "file_extension": ".py",
   "mimetype": "text/x-python",
   "name": "python",
   "nbconvert_exporter": "python",
   "pygments_lexer": "ipython3",
   "version": "3.6.8"
  }
 },
 "nbformat": 4,
 "nbformat_minor": 5
}
